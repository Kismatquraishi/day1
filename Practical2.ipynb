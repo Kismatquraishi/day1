{
  "nbformat": 4,
  "nbformat_minor": 0,
  "metadata": {
    "colab": {
      "name": "Practical2.ipynb",
      "provenance": [],
      "collapsed_sections": []
    },
    "kernelspec": {
      "name": "python3",
      "display_name": "Python 3"
    },
    "language_info": {
      "name": "python"
    }
  },
  "cells": [
    {
      "cell_type": "code",
      "metadata": {
        "colab": {
          "base_uri": "https://localhost:8080/"
        },
        "id": "s62APLlEaRzI",
        "outputId": "ef78e0e2-f913-4b13-ba67-07c827d43e81"
      },
      "source": [
        "#1\n",
        "num1=float(input(\"Enter first number:\")) \n",
        "num2=float(input(\"Enter second number:\")) \n",
        "num3=float(input(\"Enter third number:\")) \n",
        "if(num1>num2) and (num1>num3):\n",
        "  largest = num1\n",
        "elif (num2>num1) and (num2>num3): \n",
        "  largest = num2\n",
        "else:\n",
        " largest = num3\n",
        "print(\"The largest number is\",largest)3"
      ],
      "execution_count": null,
      "outputs": [
        {
          "output_type": "stream",
          "text": [
            "Enter first number:10\n",
            "Enter second number:20\n",
            "Enter third number:30\n",
            "The largest number is 30.0\n"
          ],
          "name": "stdout"
        }
      ]
    },
    {
      "cell_type": "code",
      "metadata": {
        "colab": {
          "base_uri": "https://localhost:8080/"
        },
        "id": "NEK8Q2mbfQOP",
        "outputId": "94e9f179-222e-4635-d6a9-ac3b07a00f02"
      },
      "source": [
        "#2\n",
        "num=int(input(\"Enter a number: \")) \n",
        "if num>1:\n",
        "  for i in range(2,num): \n",
        "    if (num % i) == 0:\n",
        "     print(num ,\"is not a prime number\") \n",
        "     print(i,\"times\",num//i,\"is\",num) \n",
        "     break\n",
        "  else:\n",
        "     print(num,\"is a prime number\")\n",
        "else:\n",
        " print(num,\"is not a prime number\")"
      ],
      "execution_count": null,
      "outputs": [
        {
          "output_type": "stream",
          "text": [
            "Enter a number: 20\n",
            "20 is not a prime number\n",
            "2 times 10 is 20\n"
          ],
          "name": "stdout"
        }
      ]
    },
    {
      "cell_type": "code",
      "metadata": {
        "colab": {
          "base_uri": "https://localhost:8080/"
        },
        "id": "WZIzamX2hwlL",
        "outputId": "75327f0f-f51e-41f1-f04b-188e16123eda"
      },
      "source": [
        "#3\n",
        "num=int(input(\"Enter a number: \")) \n",
        "factorial = 1\n",
        "if num<0:\n",
        " print(\"Factorial does not exist for negative numbers\") \n",
        "elif num == 0:\n",
        " print(\"The factorial of 0 is 1\") \n",
        "else:\n",
        " for i in range(1,num+1): \n",
        "   factorial = factorial*i\n",
        "print(\"The factorial of\",num,\"is\",factorial)\n"
      ],
      "execution_count": null,
      "outputs": [
        {
          "output_type": "stream",
          "text": [
            "Enter a number: 7\n",
            "The factorial of 7 is 5040\n"
          ],
          "name": "stdout"
        }
      ]
    },
    {
      "cell_type": "code",
      "metadata": {
        "colab": {
          "base_uri": "https://localhost:8080/"
        },
        "id": "6TrdWddniZfK",
        "outputId": "7961353b-6cc9-4012-b404-34cf3e09a95c"
      },
      "source": [
        "#4\n",
        "num=int(input(\"Display multiplication table of ? \")) \n",
        "for i in range(1,13):\n",
        " print(num, 'x',i,\"=\", num*i)"
      ],
      "execution_count": null,
      "outputs": [
        {
          "output_type": "stream",
          "text": [
            "Display multiplication table of ? 5\n",
            "5 x 1 = 5\n",
            "5 x 2 = 10\n",
            "5 x 3 = 15\n",
            "5 x 4 = 20\n",
            "5 x 5 = 25\n",
            "5 x 6 = 30\n",
            "5 x 7 = 35\n",
            "5 x 8 = 40\n",
            "5 x 9 = 45\n",
            "5 x 10 = 50\n",
            "5 x 11 = 55\n",
            "5 x 12 = 60\n"
          ],
          "name": "stdout"
        }
      ]
    },
    {
      "cell_type": "code",
      "metadata": {
        "colab": {
          "base_uri": "https://localhost:8080/"
        },
        "id": "cS-BvoGkiw8A",
        "outputId": "9bb3e21d-a2fa-479b-c2f2-8552de40ae65"
      },
      "source": [
        "#5\n",
        "nterms = int(input(\"How many terms ? \")) \n",
        "n1,n2=0,1\n",
        "count=0\n",
        "if nterms<=0:\n",
        " print(\"Please enter a positive integer\")\n",
        "elif nterms == 1:\n",
        " print(\"Fibonacci sequence upto\",nterms,\".\") \n",
        " print(n1)\n",
        "else:\n",
        " print(\"Fibonacci sequence:\") \n",
        " while count<nterms:\n",
        "  print(n1)\n",
        "  nth = n1 + n2 \n",
        "  n1=n2\n",
        "  n2=nth\n",
        "  count +=1"
      ],
      "execution_count": null,
      "outputs": [
        {
          "output_type": "stream",
          "text": [
            "How many terms ? 5\n",
            "Fibonacci sequence:\n",
            "0\n",
            "1\n",
            "1\n",
            "2\n",
            "3\n"
          ],
          "name": "stdout"
        }
      ]
    },
    {
      "cell_type": "code",
      "metadata": {
        "colab": {
          "base_uri": "https://localhost:8080/"
        },
        "id": "qufk2JhDjhis",
        "outputId": "8d346e9d-c715-435d-af23-22226a84e91f"
      },
      "source": [
        "#6\n",
        "num= int(input(\"Enter a number: \")) \n",
        "if num <0:\n",
        " print(\"Enter a positive number\")\n",
        "else:\n",
        "  sum=0\n",
        "while (num>0): \n",
        "  sum +=num \n",
        "  num\t -=1\n",
        "print(\"The sum is\",sum)"
      ],
      "execution_count": null,
      "outputs": [
        {
          "output_type": "stream",
          "text": [
            "Enter a number: 50\n",
            "The sum is 1275\n"
          ],
          "name": "stdout"
        }
      ]
    },
    {
      "cell_type": "code",
      "metadata": {
        "colab": {
          "base_uri": "https://localhost:8080/"
        },
        "id": "cG4WdSchkQq6",
        "outputId": "69e16090-4bd6-4fea-97a2-9bd4c88f3055"
      },
      "source": [
        "#7\n",
        "def compute_hcf(x,y): \n",
        "  if x<y:\n",
        "   smaller = y \n",
        "  else:\n",
        "   smaller = x\n",
        "  for i in range(1, smaller +1):\n",
        "   if ((x % i == 0) and (y % i == 0)):  \n",
        "      hcf\t=i\n",
        "  return hcf\n",
        "num1 = int(input(\"Enter numberl: \")) \n",
        "num2 = int(input(\"Enter number2: \"))\n",
        "print(\"The H.C.F. is\", compute_hcf(num1,num2))"
      ],
      "execution_count": null,
      "outputs": [
        {
          "output_type": "stream",
          "text": [
            "Enter numberl: 2\n",
            "Enter number2: 3\n",
            "The H.C.F. is 1\n"
          ],
          "name": "stdout"
        }
      ]
    },
    {
      "cell_type": "code",
      "metadata": {
        "colab": {
          "base_uri": "https://localhost:8080/"
        },
        "id": "mRYkqhYJlQxE",
        "outputId": "bc65ec8b-a941-4244-95b4-c054c92df9b7"
      },
      "source": [
        "#8\n",
        "import itertools, random\n",
        "deck=list(itertools.product(range(1,14),['Spade', 'Heart','Diamond', 'Club'])) \n",
        "random.shuffle(deck)\n",
        "print(\"You got:\") \n",
        "for i in range(7):\n",
        " print(deck[i][0],\"of\",deck[i][1])"
      ],
      "execution_count": null,
      "outputs": [
        {
          "output_type": "stream",
          "text": [
            "You got:\n",
            "1 of Heart\n",
            "12 of Diamond\n",
            "2 of Spade\n",
            "3 of Heart\n",
            "8 of Heart\n",
            "3 of Spade\n",
            "11 of Diamond\n"
          ],
          "name": "stdout"
        }
      ]
    },
    {
      "cell_type": "code",
      "metadata": {
        "colab": {
          "base_uri": "https://localhost:8080/"
        },
        "id": "qFdXH4pzmfrl",
        "outputId": "80b86bfd-c6fb-4059-e508-6d102b42270e"
      },
      "source": [
        "#9\n",
        "X = [ [12, 7,3] ,\n",
        "  [4,5,6],\n",
        " [7,8,9]]\n",
        "Y = [[5,8,1],\n",
        " [6,7,3],\n",
        " [4,5,9]]\n",
        "result = [[0,0,0],\n",
        "  [0,0,0],\n",
        "  [0,0,0]]\n",
        "for i in range(len(X)):\n",
        " for j in range(len(X[0])): \n",
        "  result[i][j] = X[i][j]+Y[i][j]\n",
        "for r in result: \n",
        "  print(r)"
      ],
      "execution_count": null,
      "outputs": [
        {
          "output_type": "stream",
          "text": [
            "[17, 15, 4]\n",
            "[10, 12, 9]\n",
            "[11, 13, 18]\n"
          ],
          "name": "stdout"
        }
      ]
    },
    {
      "cell_type": "code",
      "metadata": {
        "colab": {
          "base_uri": "https://localhost:8080/"
        },
        "id": "DBFad23NnEPq",
        "outputId": "c92c8191-b27f-4ee6-ce59-f74ee6c32019"
      },
      "source": [
        "#10\n",
        "X =  [ [12, 7] ,\n",
        " [4,5],\n",
        " [3,8]]\n",
        "result = [[0,0,0],\n",
        "  [0,0,0]]\n",
        "for i in range(len(X)):\n",
        " for j in range(len(X[0])):\n",
        "  result[j][i] = X[i][j]\n",
        "for r in result:\n",
        " print(r)"
      ],
      "execution_count": null,
      "outputs": [
        {
          "output_type": "stream",
          "text": [
            "[12, 4, 3]\n",
            "[7, 5, 8]\n"
          ],
          "name": "stdout"
        }
      ]
    },
    {
      "cell_type": "code",
      "metadata": {
        "colab": {
          "base_uri": "https://localhost:8080/"
        },
        "id": "mXzR1jgAniCH",
        "outputId": "d0cc1984-d3f0-436e-8c74-d16d8ebec2ff"
      },
      "source": [
        "#11\n",
        "X  =  [ [5, 7, 9] ,\n",
        " [1,3,5] ,\n",
        " [2,8,4]]\n",
        "Y =  [ [5, 4, 6] ,\n",
        " [2,3,7],\n",
        " [8,1,3]]\n",
        "result = [[0,0,0],\n",
        " [0,0,0],\n",
        " [0,0,0]]\n",
        "for i in range(len(X)):\n",
        " for j in range(len(Y[0])): \n",
        "   for k in range(len(Y)):\n",
        "     result[i][j] += X[i][k]*Y[k][j] \n",
        "for r in result:\n",
        " print(r)"
      ],
      "execution_count": null,
      "outputs": [
        {
          "output_type": "stream",
          "text": [
            "[111, 50, 106]\n",
            "[51, 18, 42]\n",
            "[58, 36, 80]\n"
          ],
          "name": "stdout"
        }
      ]
    },
    {
      "cell_type": "code",
      "metadata": {
        "colab": {
          "base_uri": "https://localhost:8080/"
        },
        "id": "Gwzlwc4ln6EN",
        "outputId": "824c0dba-3a35-4c66-b79e-6bb79999ef2e"
      },
      "source": [
        "#12\n",
        "my_str = input(\"Enter a string: \") \n",
        "my_str = my_str.casefold()\n",
        "rev_str = reversed(my_str)\n",
        "if list(my_str) == list(rev_str): \n",
        "  print(\"The string is a Palindrome.\")\n",
        "else:\n",
        "  print(\"The string is not a Palindrome.\")"
      ],
      "execution_count": null,
      "outputs": [
        {
          "output_type": "stream",
          "text": [
            "Enter a string: Radar\n",
            "The string is a Palindrome.\n"
          ],
          "name": "stdout"
        }
      ]
    },
    {
      "cell_type": "code",
      "metadata": {
        "colab": {
          "base_uri": "https://localhost:8080/"
        },
        "id": "KsVybhcJotaU",
        "outputId": "81f2799a-4eb2-4d54-a901-2a0035139d11"
      },
      "source": [
        "#13\n",
        "my_str=input(\"Enter a string: \")\n",
        "words = [word.lower() \n",
        "for word in my_str.split()] \n",
        "words.sort()\n",
        "print(\"The sorted words are: \") \n",
        "for word in words:\n",
        " print(word)"
      ],
      "execution_count": null,
      "outputs": [
        {
          "output_type": "stream",
          "text": [
            "Enter a string: My name is Yutika\n",
            "The sorted words are: \n",
            "is\n",
            "my\n",
            "name\n",
            "yutika\n"
          ],
          "name": "stdout"
        }
      ]
    }
  ]
}